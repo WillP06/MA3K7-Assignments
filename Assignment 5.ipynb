{
 "cells": [
  {
   "cell_type": "markdown",
   "id": "ed1ec7a3",
   "metadata": {},
   "source": [
    "The following calculates the experimental probability for P(n) as described in My week 10 rubric. That is the probability of there being a way of drawing horizontal and vertical lines between adjacent numbers in a n x n grid of numbers labelled 1-n^2 randomly arranged which follows from 1 to 2 to 3 all the way to n^2."
   ]
  },
  {
   "cell_type": "code",
   "execution_count": 1,
   "id": "465c6358",
   "metadata": {},
   "outputs": [],
   "source": [
    "import numpy as np\n",
    "import copy\n",
    "\n",
    "def estimate(n,k): #n = size of grid, k = number of trials\n",
    "    num_success = 0\n",
    "    for i in range(k):\n",
    "        cur=1\n",
    "        values = np.linspace(1,n*n,endpoint=True,dtype=int, num = n*n)\n",
    "        np.random.shuffle(values)\n",
    "        grid = values.reshape(n,n)\n",
    "        #print(grid)\n",
    "        while cur < n*n:\n",
    "            a,b = np.where(grid == cur)\n",
    "            c,d = np.where(grid == cur+1)\n",
    "            if (np.abs(a-c,dtype=int) + np.abs(b-d,dtype=int)) == 1:\n",
    "                cur += 1\n",
    "            else:\n",
    "                break\n",
    "            if cur == n*n:\n",
    "                num_success += 1\n",
    "    return num_success/k, num_success\n",
    "       \n"
   ]
  },
  {
   "cell_type": "markdown",
   "id": "7b8e40d3",
   "metadata": {},
   "source": [
    "The following is using the above function to estimate P(n) for given values"
   ]
  },
  {
   "cell_type": "code",
   "execution_count": 2,
   "id": "5cd0b565",
   "metadata": {},
   "outputs": [
    {
     "name": "stdout",
     "output_type": "stream",
     "text": [
      "p(2) estimate is 0.333488 with 166744 successes from 500000 trials\n",
      "p(3) estimate is 0.000114 with 57 successes from 500000 trials\n",
      "p(4) estimate is 0.0 with 0 successes from 500000 trials\n",
      "p(5) estimate is 0.0 with 0 successes from 500000 trials\n"
     ]
    }
   ],
   "source": [
    "x2, y2 = estimate(2,500000)\n",
    "print(\"p(2) estimate is \" + str(x2) +\" with \" +str(y2) +\" successes from 500000 trials\")\n",
    "x3, y3 = estimate(3,500000)\n",
    "print(\"p(3) estimate is \" + str(x3) +\" with \" +str(y3) +\" successes from 500000 trials\")\n",
    "x4, y4 = estimate(4,500000)\n",
    "print(\"p(4) estimate is \" + str(x4) +\" with \" +str(y4) +\" successes from 500000 trials\")\n",
    "x5, y5 = estimate(5,5000000)\n",
    "print(\"p(5) estimate is \" + str(x5) +\" with \" +str(y5) +\" successes from 500000 trials\")"
   ]
  },
  {
   "cell_type": "markdown",
   "id": "0cd39152",
   "metadata": {},
   "source": [
    "Below is an attempt to generate a graph associated with an n by n grid where the adjacent squares are linked by an edge and the squares are the verticies and to then count the paths through this graph which go through every vertex."
   ]
  },
  {
   "cell_type": "code",
   "execution_count": 3,
   "id": "c3a21cc0",
   "metadata": {},
   "outputs": [],
   "source": [
    "def num_paths(n):\n",
    "    paths = 0\n",
    "    for i in range(n):\n",
    "        for j in range(n):\n",
    "            graph = [np.zeros((n,n),dtype=int),i,j]\n",
    "            graph[0][i][j] = 1\n",
    "            aPaths = [graph]\n",
    "            bPaths = []\n",
    "            for k in range(n*n-1):\n",
    "                for a in aPaths:\n",
    "                    if a[1] < (n-1):\n",
    "                        if a[0][a[1]+1][a[2]] == 0:\n",
    "                            l = copy.deepcopy(a)\n",
    "                            l[0][l[1]+1][l[2]] = 1\n",
    "                            l[1] += 1\n",
    "                            bPaths.append(l)\n",
    "\n",
    "\n",
    "                    if a[1] > 0:\n",
    "                        if a[0][a[1]-1][a[2]] == 0:\n",
    "                            l = copy.deepcopy(a)\n",
    "                            l[0][l[1]-1][l[2]] = 1\n",
    "                            l[1] += -1\n",
    "                            bPaths.append(l)\n",
    "        \n",
    "                    if a[2] < (n-1):\n",
    "                        if a[0][a[1]][a[2]+1] == 0:\n",
    "                            l = copy.deepcopy(a)\n",
    "                            l[0][l[1]][l[2]+1] = 1\n",
    "                            l[2] += 1\n",
    "                            bPaths.append(l)\n",
    "                            \n",
    "                    if a[2] > 0:\n",
    "                        if a[0][a[1]][a[2]-1] == 0:\n",
    "                            l = copy.deepcopy(a)\n",
    "                            l[0][l[1]][l[2]-1] = 1\n",
    "                            l[2] += -1\n",
    "                            bPaths.append(l)\n",
    "\n",
    "                \n",
    "                   \n",
    "                aPaths = copy.deepcopy(bPaths)\n",
    "                bPaths = []\n",
    "            for a in aPaths:\n",
    "                #print(a)\n",
    "                paths +=1\n",
    "    return paths\n",
    "\n"
   ]
  },
  {
   "cell_type": "code",
   "execution_count": 4,
   "id": "3761dd4b",
   "metadata": {},
   "outputs": [],
   "source": [
    "z2 = num_paths(2)\n",
    "z3 = num_paths(3)\n",
    "z4 = num_paths(4)\n",
    "z5 = num_paths(5)"
   ]
  },
  {
   "cell_type": "code",
   "execution_count": 5,
   "id": "bc68262f",
   "metadata": {},
   "outputs": [
    {
     "name": "stdout",
     "output_type": "stream",
     "text": [
      "The number of paths going through every vertex for n =2,3,4 and 5 respectively are:\n",
      "8\n",
      "40\n",
      "552\n",
      "8648\n",
      "These give probabilities:\n",
      "0.3333333333333333\n",
      "0.00011022927689594356\n",
      "2.6382714874778365e-11\n",
      "5.575322605935693e-22\n"
     ]
    }
   ],
   "source": [
    "print(\"The number of paths going through every vertex for n =2,3,4 and 5 respectively are:\")\n",
    "print(z2)\n",
    "print(z3)\n",
    "print(z4)\n",
    "print(z5)\n",
    "print(\"These give probabilities:\")\n",
    "print(z2/np.math.factorial(2*2))\n",
    "print(z3/np.math.factorial(3*3))\n",
    "print(z4/np.math.factorial(4*4))\n",
    "print(z5/np.math.factorial(5*5))"
   ]
  }
 ],
 "metadata": {
  "kernelspec": {
   "display_name": "Python 3 (ipykernel)",
   "language": "python",
   "name": "python3"
  },
  "language_info": {
   "codemirror_mode": {
    "name": "ipython",
    "version": 3
   },
   "file_extension": ".py",
   "mimetype": "text/x-python",
   "name": "python",
   "nbconvert_exporter": "python",
   "pygments_lexer": "ipython3",
   "version": "3.9.7"
  }
 },
 "nbformat": 4,
 "nbformat_minor": 5
}
