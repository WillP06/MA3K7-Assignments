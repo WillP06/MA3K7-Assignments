{
 "cells": [
  {
   "cell_type": "markdown",
   "id": "c1998be4",
   "metadata": {},
   "source": [
    "Here i will create a list of all 100 possible starting pairs, then starting at the first one, generate a bracelet with that starting point, removing each pair of starting points that appears from the initial list. then once the bracelet is \"complete\" I will move onto the next remaining point at strat a new bracelet, until all cases have been tested."
   ]
  },
  {
   "cell_type": "code",
   "execution_count": 39,
   "id": "343f8c78",
   "metadata": {},
   "outputs": [
    {
     "name": "stdout",
     "output_type": "stream",
     "text": [
      "[[0, 0, 0], [0, 1, 1, 2, 3, 5, 8, 3, 1, 4, 5, 9, 4, 3, 7, 0, 7, 7, 4, 1, 5, 6, 1, 7, 8, 5, 3, 8, 1, 9, 0, 9, 9, 8, 7, 5, 2, 7, 9, 6, 5, 1, 6, 7, 3, 0, 3, 3, 6, 9, 5, 4, 9, 3, 2, 5, 7, 2, 9, 1, 0, 1], [0, 2, 2, 4, 6, 0, 6, 6, 2, 8, 0, 8, 8, 6, 4, 0, 4, 4, 8, 2, 0, 2], [0, 5, 5, 0, 5], [1, 3, 4, 7, 1, 8, 9, 7, 6, 3, 9, 2, 1, 3], [2, 6, 8, 4, 2, 6]]\n",
      "6 different bracelets of lengths\n",
      "2\n",
      "61\n",
      "21\n",
      "4\n",
      "13\n",
      "5\n"
     ]
    }
   ],
   "source": [
    "import numpy as np\n",
    "#x = np.linspace(0,9,10, dtype=int)\n",
    "#pointsX, pointsY = np.meshgrid(x,x)\n",
    "#starting = list(np.array([pointsX.flatten(),pointsY.flatten()]).T)\n",
    "#print(starting)\n",
    "starting = []\n",
    "for x in range(0,10):\n",
    "    for y in range(0,10):\n",
    "        starting.append([x,y])\n",
    "\n",
    "bracelets = []\n",
    "\n",
    "\n",
    "while len(starting) > 0:\n",
    "    bracelet = [starting[0][0],starting[0][1]]\n",
    "    b = 0\n",
    "    \n",
    "    while b == 0:\n",
    "        a = (bracelet[-1] + bracelet[-2]) % 10\n",
    "        if ([bracelet[-1], a] in starting):\n",
    "            bracelet.append(a)\n",
    "            starting.remove([bracelet[-2], bracelet[-1]])\n",
    "        else:\n",
    "            bracelets.append(bracelet)\n",
    "            b=1\n",
    "print(bracelets)\n",
    "print(str(len(bracelets))+ \" different bracelets of lengths\")\n",
    "for i in range(0,len(bracelets)):\n",
    "    print(len(bracelets[i])-1)"
   ]
  },
  {
   "cell_type": "markdown",
   "id": "2957d253",
   "metadata": {},
   "source": [
    "From above we can see there are 6 different bracelets formed, and they have 2,61,21,4,13 and 5 numbers before repeating respectively."
   ]
  }
 ],
 "metadata": {
  "kernelspec": {
   "display_name": "Python 3 (ipykernel)",
   "language": "python",
   "name": "python3"
  },
  "language_info": {
   "codemirror_mode": {
    "name": "ipython",
    "version": 3
   },
   "file_extension": ".py",
   "mimetype": "text/x-python",
   "name": "python",
   "nbconvert_exporter": "python",
   "pygments_lexer": "ipython3",
   "version": "3.9.7"
  }
 },
 "nbformat": 4,
 "nbformat_minor": 5
}
