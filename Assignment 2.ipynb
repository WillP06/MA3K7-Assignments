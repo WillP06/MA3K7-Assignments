{
 "cells": [
  {
   "cell_type": "markdown",
   "id": "2baba588",
   "metadata": {},
   "source": [
    "Creating a simulation of the game"
   ]
  },
  {
   "cell_type": "code",
   "execution_count": null,
   "id": "13a1e8af",
   "metadata": {},
   "outputs": [],
   "source": [
    "import numpy as np\n",
    "\n",
    "\n",
    "\n",
    "firstPlayer = 0    #0 or 1\n",
    "n = 3\n",
    "curPlayer = firstPlayer\n",
    "A = np.full((n,n), \"-\")\n",
    "while \"-\" in A:\n",
    "    if curPlayer == 0:\n",
    "        i = int(input(\"i coordinate player 0: \"))\n",
    "        j = int(input(\"j coordinate player 0: \"))\n",
    "        if A[i-1][j-1] == \"-\":\n",
    "            A[i-1][j-1] = 0\n",
    "            curPlayer = 1\n",
    "        else:\n",
    "            print(\"Slot already filled\")\n",
    "            continue\n",
    "    elif curPlayer == 1:\n",
    "        i = int(input(\"i coordinate player 1: \"))\n",
    "        j = int(input(\"j coordinate player 1: \"))\n",
    "        if A[i-1][j-1] == \"-\":\n",
    "            A[i-1][j-1] = 1\n",
    "            curPlayer = 0\n",
    "        else:\n",
    "            print(\"Slot already filled\")\n",
    "            continue\n",
    "    print(A)\n",
    "B = A.astype(\"float\")\n",
    "print(np.linalg.det(B))\n",
    "\n"
   ]
  },
  {
   "cell_type": "code",
   "execution_count": null,
   "id": "69a41c1d",
   "metadata": {},
   "outputs": [],
   "source": []
  },
  {
   "cell_type": "code",
   "execution_count": null,
   "id": "fc39ea91",
   "metadata": {},
   "outputs": [],
   "source": []
  }
 ],
 "metadata": {
  "kernelspec": {
   "display_name": "Python 3 (ipykernel)",
   "language": "python",
   "name": "python3"
  },
  "language_info": {
   "codemirror_mode": {
    "name": "ipython",
    "version": 3
   },
   "file_extension": ".py",
   "mimetype": "text/x-python",
   "name": "python",
   "nbconvert_exporter": "python",
   "pygments_lexer": "ipython3",
   "version": "3.9.7"
  }
 },
 "nbformat": 4,
 "nbformat_minor": 5
}
