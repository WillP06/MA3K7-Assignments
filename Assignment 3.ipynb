{
 "cells": [
  {
   "cell_type": "markdown",
   "id": "01bd53a5",
   "metadata": {},
   "source": [
    "The following will be simulating a given number a \"games\" of what is described in the assignment and keep track of the final number only"
   ]
  },
  {
   "cell_type": "code",
   "execution_count": 1,
   "id": "84f654c0",
   "metadata": {},
   "outputs": [
    {
     "name": "stdout",
     "output_type": "stream",
     "text": [
      "100\n",
      "[98, 688, 200, 390, 210, 402, 54, 284, 706, 678, 478, 500, 746, 358, 640, 778, 0, 338, 186, 596, 150, 218, 286, 132, 194, 370, 94, 456, 316, 46, 150, 158, 38, 44, 16, 150, 144, 92, 434, 782, 810, 80, 158, 106, 78, 90, 478, 68, 114, 34, 192, 512, 210, 128, 390, 274, 346, 118, 110, 658, 1160, 278, 80, 826, 682, 66, 50, 28, 480, 24, 166, 740, 554, 1094, 92, 506, 132, 258, 84, 4, 782, 876, 512, 30, 460, 150, 660, 1024, 976, 134, 484, 64, 204, 178, 10, 122, 616, 52, 100, 362]\n"
     ]
    }
   ],
   "source": [
    "import numpy as np\n",
    "\n",
    "rand = np.random.default_rng()\n",
    "\n",
    "def sim(a, N):  #the hat is filled with numbers from 1 to a and we are simulating N games\n",
    "    final = []\n",
    "    for i in range(N):\n",
    "        hat = list(range(1,a+1))\n",
    "        while len(hat) > 1:\n",
    "            x = np.random.choice(len(hat),2, replace=False)\n",
    "            y = np.abs(hat[x[0]]-hat[x[1]], dtype=int)\n",
    "            M = max(x)\n",
    "            m = min(x)\n",
    "            del hat[M]\n",
    "            del hat[m]\n",
    "            hat.append(y)\n",
    "        \n",
    "        final.append(hat[0])\n",
    "    return final\n",
    "\n",
    "B = sim(2024,100)\n",
    "print(len(B))\n",
    "print(B)\n",
    "    "
   ]
  },
  {
   "cell_type": "markdown",
   "id": "8069964e",
   "metadata": {},
   "source": [
    "As we can see there are no odd final numbers from quite a large number of trials, maybe the final number is guaranteed to be even.\n",
    "Below is a histogram of the final numbers from 10000 trials, to show to experimental probability of getting each final number."
   ]
  },
  {
   "cell_type": "code",
   "execution_count": 3,
   "id": "036fd659",
   "metadata": {},
   "outputs": [
    {
     "data": {
      "image/png": "[encoded data removed]",
      "text/plain": [
       "<Figure size 432x288 with 1 Axes>"
      ]
     },
     "metadata": {
      "needs_background": "light"
     },
     "output_type": "display_data"
    }
   ],
   "source": [
    "import matplotlib\n",
    "import matplotlib.pyplot as plt\n",
    "\n",
    "k = 10000   #no of data points\n",
    "data = sim(2024,k)\n",
    "bins = np.linspace(-0.5,2024.5,2026,endpoint=True)\n",
    "plt.hist(data, bins, density = True)\n",
    "plt.ylabel(\"Probability\")\n",
    "plt.xlabel(\"Final Number\")\n",
    "plt.title(\"Experimental probability of getting each final number\")\n",
    "plt.savefig(\"2024 numbers in a hat problem histogram.png\")\n",
    "plt.show()"
   ]
  },
  {
   "cell_type": "code",
   "execution_count": 5,
   "id": "75d935b0",
   "metadata": {},
   "outputs": [
    {
     "data": {
      "image/png": "[encoded data removed]",
      "text/plain": [
       "<Figure size 432x288 with 4 Axes>"
      ]
     },
     "metadata": {
      "needs_background": "light"
     },
     "output_type": "display_data"
    }
   ],
   "source": [
    "k1 = 10000\n",
    "data100 = sim(100,k1)\n",
    "data101 = sim(101,k1)\n",
    "data102 = sim(102,k1)\n",
    "data103 = sim(103,k1)\n",
    "\n",
    "bins100 = np.linspace(-0.5,100.5,102,endpoint=True)\n",
    "bins101 = np.linspace(-0.5,101.5,103,endpoint=True)\n",
    "bins102 = np.linspace(-0.5,102.5,104,endpoint=True)\n",
    "bins103 = np.linspace(-0.5,103.5,105,endpoint=True)\n",
    "\n",
    "fig, axs = plt.subplots(2, 2)\n",
    "axs[0, 0].hist(data100, bins100, density = True)\n",
    "axs[0, 0].set_title('k = 100')\n",
    "axs[0, 1].hist(data101, bins101, density = True)\n",
    "axs[0, 1].set_title('k = 101')\n",
    "axs[1, 0].hist(data102, bins102, density = True)\n",
    "axs[1, 0].set_title('k = 102')\n",
    "axs[1, 1].hist(data103, bins103, density = True)\n",
    "axs[1, 1].set_title('k = 103')\n",
    "\n",
    "for ax in axs.flat:\n",
    "    ax.set(xlabel='Final Number', ylabel='Probability')\n",
    "for ax in fig.get_axes():\n",
    "    ax.label_outer()\n",
    "plt.savefig(\"Other values of k.png\")"
   ]
  },
  {
   "cell_type": "code",
   "execution_count": null,
   "id": "4bbf69df",
   "metadata": {},
   "outputs": [],
   "source": []
  }
 ],
 "metadata": {
  "kernelspec": {
   "display_name": "Python 3 (ipykernel)",
   "language": "python",
   "name": "python3"
  },
  "language_info": {
   "codemirror_mode": {
    "name": "ipython",
    "version": 3
   },
   "file_extension": ".py",
   "mimetype": "text/x-python",
   "name": "python",
   "nbconvert_exporter": "python",
   "pygments_lexer": "ipython3",
   "version": "3.9.7"
  }
 },
 "nbformat": 4,
 "nbformat_minor": 5
}
